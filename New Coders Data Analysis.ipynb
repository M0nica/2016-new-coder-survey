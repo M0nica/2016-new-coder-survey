{
 "cells": [
  {
   "cell_type": "code",
   "execution_count": 266,
   "metadata": {
    "collapsed": false
   },
   "outputs": [],
   "source": [
    "# workon dataanalysis - my virtual environment\n",
    "import pandas as pd\n",
    "import matplotlib.pyplot as plt\n",
    "%matplotlib inline"
   ]
  },
  {
   "cell_type": "code",
   "execution_count": 267,
   "metadata": {
    "collapsed": false
   },
   "outputs": [
    {
     "name": "stderr",
     "output_type": "stream",
     "text": [
      "/Users/Monica/.virtualenvs/dataanalysis/lib/python3.5/site-packages/IPython/core/interactiveshell.py:2723: DtypeWarning: Columns (21,57) have mixed types. Specify dtype option on import or set low_memory=False.\n",
      "  interactivity=interactivity, compiler=compiler, result=result)\n"
     ]
    }
   ],
   "source": [
    "df = pd.read_csv('2016-FCC-New-Coders-Survey-Data.csv')"
   ]
  },
  {
   "cell_type": "code",
   "execution_count": 268,
   "metadata": {
    "collapsed": false
   },
   "outputs": [
    {
     "data": {
      "text/html": [
       "<div>\n",
       "<table border=\"1\" class=\"dataframe\">\n",
       "  <thead>\n",
       "    <tr style=\"text-align: right;\">\n",
       "      <th></th>\n",
       "      <th>Age</th>\n",
       "      <th>AttendedBootcamp</th>\n",
       "      <th>BootcampFinish</th>\n",
       "      <th>BootcampFullJobAfter</th>\n",
       "      <th>BootcampLoanYesNo</th>\n",
       "      <th>BootcampMonthsAgo</th>\n",
       "      <th>BootcampName</th>\n",
       "      <th>BootcampPostSalary</th>\n",
       "      <th>BootcampRecommend</th>\n",
       "      <th>ChildrenNumber</th>\n",
       "      <th>...</th>\n",
       "      <th>ResourceSoloLearn</th>\n",
       "      <th>ResourceStackOverflow</th>\n",
       "      <th>ResourceTreehouse</th>\n",
       "      <th>ResourceUdacity</th>\n",
       "      <th>ResourceUdemy</th>\n",
       "      <th>ResourceW3Schools</th>\n",
       "      <th>ResourceYouTube</th>\n",
       "      <th>SchoolDegree</th>\n",
       "      <th>SchoolMajor</th>\n",
       "      <th>StudentDebtOwe</th>\n",
       "    </tr>\n",
       "  </thead>\n",
       "  <tbody>\n",
       "    <tr>\n",
       "      <th>0</th>\n",
       "      <td>28.0</td>\n",
       "      <td>0.0</td>\n",
       "      <td>NaN</td>\n",
       "      <td>NaN</td>\n",
       "      <td>NaN</td>\n",
       "      <td>NaN</td>\n",
       "      <td>NaN</td>\n",
       "      <td>NaN</td>\n",
       "      <td>NaN</td>\n",
       "      <td>NaN</td>\n",
       "      <td>...</td>\n",
       "      <td>NaN</td>\n",
       "      <td>NaN</td>\n",
       "      <td>NaN</td>\n",
       "      <td>NaN</td>\n",
       "      <td>NaN</td>\n",
       "      <td>NaN</td>\n",
       "      <td>NaN</td>\n",
       "      <td>some college credit, no degree</td>\n",
       "      <td>NaN</td>\n",
       "      <td>20000.0</td>\n",
       "    </tr>\n",
       "    <tr>\n",
       "      <th>1</th>\n",
       "      <td>22.0</td>\n",
       "      <td>0.0</td>\n",
       "      <td>NaN</td>\n",
       "      <td>NaN</td>\n",
       "      <td>NaN</td>\n",
       "      <td>NaN</td>\n",
       "      <td>NaN</td>\n",
       "      <td>NaN</td>\n",
       "      <td>NaN</td>\n",
       "      <td>NaN</td>\n",
       "      <td>...</td>\n",
       "      <td>NaN</td>\n",
       "      <td>NaN</td>\n",
       "      <td>NaN</td>\n",
       "      <td>NaN</td>\n",
       "      <td>1.0</td>\n",
       "      <td>NaN</td>\n",
       "      <td>NaN</td>\n",
       "      <td>some college credit, no degree</td>\n",
       "      <td>NaN</td>\n",
       "      <td>NaN</td>\n",
       "    </tr>\n",
       "    <tr>\n",
       "      <th>2</th>\n",
       "      <td>19.0</td>\n",
       "      <td>0.0</td>\n",
       "      <td>NaN</td>\n",
       "      <td>NaN</td>\n",
       "      <td>NaN</td>\n",
       "      <td>NaN</td>\n",
       "      <td>NaN</td>\n",
       "      <td>NaN</td>\n",
       "      <td>NaN</td>\n",
       "      <td>NaN</td>\n",
       "      <td>...</td>\n",
       "      <td>NaN</td>\n",
       "      <td>NaN</td>\n",
       "      <td>NaN</td>\n",
       "      <td>NaN</td>\n",
       "      <td>NaN</td>\n",
       "      <td>NaN</td>\n",
       "      <td>NaN</td>\n",
       "      <td>high school diploma or equivalent (GED)</td>\n",
       "      <td>NaN</td>\n",
       "      <td>NaN</td>\n",
       "    </tr>\n",
       "    <tr>\n",
       "      <th>3</th>\n",
       "      <td>26.0</td>\n",
       "      <td>0.0</td>\n",
       "      <td>NaN</td>\n",
       "      <td>NaN</td>\n",
       "      <td>NaN</td>\n",
       "      <td>NaN</td>\n",
       "      <td>NaN</td>\n",
       "      <td>NaN</td>\n",
       "      <td>NaN</td>\n",
       "      <td>NaN</td>\n",
       "      <td>...</td>\n",
       "      <td>NaN</td>\n",
       "      <td>NaN</td>\n",
       "      <td>NaN</td>\n",
       "      <td>NaN</td>\n",
       "      <td>NaN</td>\n",
       "      <td>NaN</td>\n",
       "      <td>NaN</td>\n",
       "      <td>bachelor's degree</td>\n",
       "      <td>Cinematography And Film</td>\n",
       "      <td>7000.0</td>\n",
       "    </tr>\n",
       "    <tr>\n",
       "      <th>4</th>\n",
       "      <td>20.0</td>\n",
       "      <td>0.0</td>\n",
       "      <td>NaN</td>\n",
       "      <td>NaN</td>\n",
       "      <td>NaN</td>\n",
       "      <td>NaN</td>\n",
       "      <td>NaN</td>\n",
       "      <td>NaN</td>\n",
       "      <td>NaN</td>\n",
       "      <td>NaN</td>\n",
       "      <td>...</td>\n",
       "      <td>NaN</td>\n",
       "      <td>NaN</td>\n",
       "      <td>NaN</td>\n",
       "      <td>NaN</td>\n",
       "      <td>NaN</td>\n",
       "      <td>NaN</td>\n",
       "      <td>NaN</td>\n",
       "      <td>some college credit, no degree</td>\n",
       "      <td>NaN</td>\n",
       "      <td>NaN</td>\n",
       "    </tr>\n",
       "  </tbody>\n",
       "</table>\n",
       "<p>5 rows × 113 columns</p>\n",
       "</div>"
      ],
      "text/plain": [
       "    Age  AttendedBootcamp  BootcampFinish  BootcampFullJobAfter  \\\n",
       "0  28.0               0.0             NaN                   NaN   \n",
       "1  22.0               0.0             NaN                   NaN   \n",
       "2  19.0               0.0             NaN                   NaN   \n",
       "3  26.0               0.0             NaN                   NaN   \n",
       "4  20.0               0.0             NaN                   NaN   \n",
       "\n",
       "   BootcampLoanYesNo  BootcampMonthsAgo BootcampName  BootcampPostSalary  \\\n",
       "0                NaN                NaN          NaN                 NaN   \n",
       "1                NaN                NaN          NaN                 NaN   \n",
       "2                NaN                NaN          NaN                 NaN   \n",
       "3                NaN                NaN          NaN                 NaN   \n",
       "4                NaN                NaN          NaN                 NaN   \n",
       "\n",
       "   BootcampRecommend  ChildrenNumber       ...       ResourceSoloLearn  \\\n",
       "0                NaN             NaN       ...                     NaN   \n",
       "1                NaN             NaN       ...                     NaN   \n",
       "2                NaN             NaN       ...                     NaN   \n",
       "3                NaN             NaN       ...                     NaN   \n",
       "4                NaN             NaN       ...                     NaN   \n",
       "\n",
       "   ResourceStackOverflow  ResourceTreehouse  ResourceUdacity  ResourceUdemy  \\\n",
       "0                    NaN                NaN              NaN            NaN   \n",
       "1                    NaN                NaN              NaN            1.0   \n",
       "2                    NaN                NaN              NaN            NaN   \n",
       "3                    NaN                NaN              NaN            NaN   \n",
       "4                    NaN                NaN              NaN            NaN   \n",
       "\n",
       "   ResourceW3Schools  ResourceYouTube  \\\n",
       "0                NaN              NaN   \n",
       "1                NaN              NaN   \n",
       "2                NaN              NaN   \n",
       "3                NaN              NaN   \n",
       "4                NaN              NaN   \n",
       "\n",
       "                              SchoolDegree              SchoolMajor  \\\n",
       "0           some college credit, no degree                      NaN   \n",
       "1           some college credit, no degree                      NaN   \n",
       "2  high school diploma or equivalent (GED)                      NaN   \n",
       "3                        bachelor's degree  Cinematography And Film   \n",
       "4           some college credit, no degree                      NaN   \n",
       "\n",
       "   StudentDebtOwe  \n",
       "0         20000.0  \n",
       "1             NaN  \n",
       "2             NaN  \n",
       "3          7000.0  \n",
       "4             NaN  \n",
       "\n",
       "[5 rows x 113 columns]"
      ]
     },
     "execution_count": 268,
     "metadata": {},
     "output_type": "execute_result"
    }
   ],
   "source": [
    "df.head()"
   ]
  },
  {
   "cell_type": "code",
   "execution_count": 269,
   "metadata": {
    "collapsed": false
   },
   "outputs": [
    {
     "data": {
      "text/plain": [
       "dtype('float64')"
      ]
     },
     "execution_count": 269,
     "metadata": {},
     "output_type": "execute_result"
    }
   ],
   "source": [
    "df['Age'].dtype"
   ]
  },
  {
   "cell_type": "markdown",
   "metadata": {},
   "source": [
    "Who does this data represent? Age? Gender breakdown?"
   ]
  },
  {
   "cell_type": "code",
   "execution_count": 270,
   "metadata": {
    "collapsed": false
   },
   "outputs": [
    {
     "name": "stdout",
     "output_type": "stream",
     "text": [
      "According to this survey the average developer is 29.0 years old.\n"
     ]
    }
   ],
   "source": [
    "print(\"According to this survey the average developer is\", round(df['Age'].mean()), \"years old.\")"
   ]
  },
  {
   "cell_type": "code",
   "execution_count": 271,
   "metadata": {
    "collapsed": false
   },
   "outputs": [
    {
     "data": {
      "image/png": "[encoded data removed]",
      "text/plain": [
       "<matplotlib.figure.Figure at 0x113c44ef0>"
      ]
     },
     "metadata": {},
     "output_type": "display_data"
    }
   ],
   "source": [
    "ageHis = df['Age'].hist()# .hist(bins=#)\n",
    "ageHis.set_title('Distribution of Age Amongst Respondents to the Survey')\n",
    "ageHis.set_xlabel('Age(years)')\n",
    "ageHis.set_ylabel('# of Respondents')\n",
    "plt.savefig('agehis.png')"
   ]
  },
  {
   "cell_type": "code",
   "execution_count": 272,
   "metadata": {
    "collapsed": false
   },
   "outputs": [
    {
     "data": {
      "text/plain": [
       "male           10766\n",
       "female          2840\n",
       "genderqueer       66\n",
       "agender           38\n",
       "trans             36\n",
       "Name: Gender, dtype: int64"
      ]
     },
     "execution_count": 272,
     "metadata": {},
     "output_type": "execute_result"
    }
   ],
   "source": [
    "df['Gender'].value_counts()"
   ]
  },
  {
   "cell_type": "code",
   "execution_count": 273,
   "metadata": {
    "collapsed": false
   },
   "outputs": [
    {
     "data": {
      "image/png": "[encoded data removed]",
      "text/plain": [
       "<matplotlib.figure.Figure at 0x10e3f2908>"
      ]
     },
     "metadata": {},
     "output_type": "display_data"
    }
   ],
   "source": [
    "genderBar = df['Gender'].value_counts().plot(kind=\"bar\", color = ['#624ea7', 'g', 'yellow', 'k', 'maroon'])\n",
    "genderBar.set_title('Distribution of Gender Amongst Respondents to the Survey')\n",
    "genderBar.set_xlabel('Gender')\n",
    "genderBar.set_ylabel('# of Respondents')\n",
    "plt.savefig('genderbar.png')"
   ]
  },
  {
   "cell_type": "code",
   "execution_count": 274,
   "metadata": {
    "collapsed": false
   },
   "outputs": [
    {
     "data": {
      "image/png": "[encoded data removed]",
      "text/plain": [
       "<matplotlib.figure.Figure at 0x10d987208>"
      ]
     },
     "metadata": {},
     "output_type": "display_data"
    }
   ],
   "source": [
    "genderPie = df['Gender'].value_counts().plot(kind=\"pie\",  colors = ['#624ea7', '#599ad3', '#f9a65a', '#9e66ab', 'purple'],  labeldistance=1.2)\n",
    "genderPie.set_title('Distribution of Gender Amongst Respondents to the Survey')\n",
    "genderPie.set_xlabel('Gender')\n",
    "genderPie.set_ylabel('# of Respondents')\n",
    "plt.savefig('genderpie.png')\n",
    "\n"
   ]
  },
  {
   "cell_type": "code",
   "execution_count": 275,
   "metadata": {
    "collapsed": false
   },
   "outputs": [
    {
     "data": {
      "text/plain": [
       "Index(['Age', 'AttendedBootcamp', 'BootcampFinish', 'BootcampFullJobAfter',\n",
       "       'BootcampLoanYesNo', 'BootcampMonthsAgo', 'BootcampName',\n",
       "       'BootcampPostSalary', 'BootcampRecommend', 'ChildrenNumber',\n",
       "       ...\n",
       "       'ResourceSoloLearn', 'ResourceStackOverflow', 'ResourceTreehouse',\n",
       "       'ResourceUdacity', 'ResourceUdemy', 'ResourceW3Schools',\n",
       "       'ResourceYouTube', 'SchoolDegree', 'SchoolMajor', 'StudentDebtOwe'],\n",
       "      dtype='object', length=113)"
      ]
     },
     "execution_count": 275,
     "metadata": {},
     "output_type": "execute_result"
    }
   ],
   "source": [
    "df.columns"
   ]
  },
  {
   "cell_type": "code",
   "execution_count": 276,
   "metadata": {
    "collapsed": false
   },
   "outputs": [
    {
     "data": {
      "text/plain": [
       "Part1StartTime                 1\n",
       "BootcampMonthsAgo              1\n",
       "EmploymentStatus               1\n",
       "PodcastDeveloperTea            1\n",
       "ResourceHackerRank             1\n",
       "ResourceDevTips                1\n",
       "SchoolDegree                   1\n",
       "BootcampLoanYesNo              1\n",
       "JobApplyWhen                   1\n",
       "PodcastProgrammingThrowDown    1\n",
       "AttendedBootcamp               1\n",
       "ResourceStackOverflow          1\n",
       "CodeEventWorkshop              1\n",
       "JobRoleInterestOther           1\n",
       "BootcampFullJobAfter           1\n",
       "ResourceSoloLearn              1\n",
       "ChildrenNumber                 1\n",
       "ResourceLynda                  1\n",
       "PodcastNone                    1\n",
       "CodeEventNone                  1\n",
       "ResourceUdemy                  1\n",
       "HasServedInMilitary            1\n",
       "ResourceBooks                  1\n",
       "Gender                         1\n",
       "ExpectedEarning                1\n",
       "ResourceTreehouse              1\n",
       "ResourceKhanAcademy            1\n",
       "PodcastOther                   1\n",
       "ResourceOther                  1\n",
       "Part1EndTime                   1\n",
       "                              ..\n",
       "CountryLive                    1\n",
       "IsEthnicMinority               1\n",
       "BootcampFinish                 1\n",
       "ResourceReddit                 1\n",
       "ResourceCoursera               1\n",
       "ResourceEdX                    1\n",
       "ResourceUdacity                1\n",
       "ID.x                           1\n",
       "ResourceGoogle                 1\n",
       "PodcastSEDaily                 1\n",
       "ResourcePluralSight            1\n",
       "IsSoftwareDev                  1\n",
       "PodcastJSJabber                1\n",
       "PodcastTalkPython              1\n",
       "CodeEventCoffee                1\n",
       "PodcastCodeNewbie              1\n",
       "ResourceCodeWars               1\n",
       "MaritalStatus                  1\n",
       "ResourceOdinProj               1\n",
       "HoursLearning                  1\n",
       "ResourceYouTube                1\n",
       "ResourceCodecademy             1\n",
       "ID.y                           1\n",
       "HasStudentDebt                 1\n",
       "IsUnderEmployed                1\n",
       "CodeEventRailsBridge           1\n",
       "PodcastJsAir                   1\n",
       "CodeEventBootcamp              1\n",
       "NetworkID                      1\n",
       "PodcastDotNetRocks             1\n",
       "dtype: int64"
      ]
     },
     "execution_count": 276,
     "metadata": {},
     "output_type": "execute_result"
    }
   ],
   "source": [
    "df.columns.value_counts() #view all columns -- regular columns command  truncates the values"
   ]
  },
  {
   "cell_type": "markdown",
   "metadata": {},
   "source": [
    "Aside from university tuition, about how much money have you spent on learning to code so far (in US dollars)?"
   ]
  },
  {
   "cell_type": "code",
   "execution_count": 277,
   "metadata": {
    "collapsed": false
   },
   "outputs": [
    {
     "data": {
      "text/plain": [
       "0.0        6587\n",
       "100.0      1071\n",
       "200.0       756\n",
       "500.0       716\n",
       "50.0        564\n",
       "1000.0      518\n",
       "300.0       444\n",
       "20.0        221\n",
       "150.0       217\n",
       "2000.0      217\n",
       "400.0       198\n",
       "30.0        193\n",
       "5000.0      165\n",
       "250.0       152\n",
       "3000.0      137\n",
       "1500.0      126\n",
       "10.0        118\n",
       "10000.0     114\n",
       "60.0        112\n",
       "40.0        105\n",
       "600.0       100\n",
       "4000.0       89\n",
       "25.0         74\n",
       "15000.0      70\n",
       "20000.0      65\n",
       "2500.0       61\n",
       "12000.0      60\n",
       "700.0        58\n",
       "800.0        57\n",
       "1200.0       52\n",
       "           ... \n",
       "199.0         1\n",
       "190.0         1\n",
       "185.0         1\n",
       "1900.0        1\n",
       "12050.0       1\n",
       "174.0         1\n",
       "2009.0        1\n",
       "84000.0       1\n",
       "2100.0        1\n",
       "145.0         1\n",
       "834.0         1\n",
       "1650.0        1\n",
       "236.0         1\n",
       "239.0         1\n",
       "320.0         1\n",
       "17550.0       1\n",
       "345.0         1\n",
       "341.0         1\n",
       "1206.0        1\n",
       "1221.0        1\n",
       "325.0         1\n",
       "1250.0        1\n",
       "1537.0        1\n",
       "299.0         1\n",
       "288.0         1\n",
       "280.0         1\n",
       "275.0         1\n",
       "1296.0        1\n",
       "17800.0       1\n",
       "93000.0       1\n",
       "Name: MoneyForLearning, dtype: int64"
      ]
     },
     "execution_count": 277,
     "metadata": {},
     "output_type": "execute_result"
    }
   ],
   "source": [
    "df['MoneyForLearning'].value_counts()"
   ]
  },
  {
   "cell_type": "code",
   "execution_count": 278,
   "metadata": {
    "collapsed": false
   },
   "outputs": [
    {
     "data": {
      "text/plain": [
       "93000.0    1\n",
       "8650.0     1\n",
       "8600.0     1\n",
       "13.0       1\n",
       "Name: MoneyForLearning, dtype: int64"
      ]
     },
     "execution_count": 278,
     "metadata": {},
     "output_type": "execute_result"
    }
   ],
   "source": [
    "df['MoneyForLearning'].value_counts().sort_values().head(4)"
   ]
  },
  {
   "cell_type": "code",
   "execution_count": 279,
   "metadata": {
    "collapsed": false
   },
   "outputs": [
    {
     "data": {
      "image/png": "[encoded data removed]",
      "text/plain": [
       "<matplotlib.figure.Figure at 0x1157c71d0>"
      ]
     },
     "metadata": {},
     "output_type": "display_data"
    }
   ],
   "source": [
    "moneyScatter = df.plot(kind='scatter', x='Age', y='MoneyForLearning', alpha=0.2, xlim=(8, 85),ylim = (0, 200000))\n",
    "moneyScatter.set_title('Distribution of Money Spent Amongst Respondents to the Survey by Age')\n",
    "moneyScatter.set_xlabel('Age')\n",
    "moneyScatter.set_ylabel('Amount Spent ($USD)')\n",
    "plt.savefig('moneyscatter.png')\n"
   ]
  },
  {
   "cell_type": "code",
   "execution_count": 280,
   "metadata": {
    "collapsed": false
   },
   "outputs": [
    {
     "ename": "SyntaxError",
     "evalue": "invalid syntax (<ipython-input-280-916e1d9b4bc9>, line 3)",
     "output_type": "error",
     "traceback": [
      "\u001b[0;36m  File \u001b[0;32m\"<ipython-input-280-916e1d9b4bc9>\"\u001b[0;36m, line \u001b[0;32m3\u001b[0m\n\u001b[0;31m    moneyBar.set_xlabel('Age')\u001b[0m\n\u001b[0m           ^\u001b[0m\n\u001b[0;31mSyntaxError\u001b[0m\u001b[0;31m:\u001b[0m invalid syntax\n"
     ]
    }
   ],
   "source": [
    "moneyBar = df['MoneyForLearning'].hist(bins=20, range=(0,93000)) # trying to figure out data because the range is from 0 to $93,000\n",
    "moneyBar.set_title('Distribution of Money Spent A color = ['#624ea7', '#599ad3', '#f9a65a', '#9e66ab', 'purple']mongst Respondents to the Survey by Age')\n",
    "moneyBar.set_xlabel('Age')\n",
    "moneyBar.set_ylabel('Amount Spent')\n",
    "plt.savefig('moneybar.png')"
   ]
  },
  {
   "cell_type": "code",
   "execution_count": null,
   "metadata": {
    "collapsed": false
   },
   "outputs": [],
   "source": [
    "expectedEarningsGender = df.groupby('Gender')['ExpectedEarning'].mean().plot(kind=\"bar\", color = ['#624ea7', '#599ad3', '#f9a65a', '#9e66ab', 'purple'])\n",
    "expectedEarningsGender.set_title('Money Expected to Earn Amongst Respondents to the Survey by Gender')\n",
    "expectedEarningsGender.set_xlabel('Gender')\n",
    "expectedEarningsGender.set_ylabel('Amount Expected ($ USD)')\n",
    "plt.savefig('expectedEarningsGender.png')"
   ]
  },
  {
   "cell_type": "code",
   "execution_count": null,
   "metadata": {
    "collapsed": false
   },
   "outputs": [],
   "source": [
    "moneySpentExpectedScatter = df.plot(kind='scatter', x='MoneyForLearning', y='ExpectedEarning', ylim=(0, 220000), xlim=(0,93000), alpha=0.2)\n",
    "moneySpentExpectedScatter.set_title('Money Spent for Learning versus Expected Earning ($USD)')\n",
    "moneySpentExpectedScatter.set_xlabel('Money for Learning ($USD)')\n",
    "moneySpentExpectedScatter.set_ylabel('Expected Earning ($USD)')\n",
    "plt.savefig('spentvsexpectedscatter.png')"
   ]
  },
  {
   "cell_type": "code",
   "execution_count": null,
   "metadata": {
    "collapsed": false
   },
   "outputs": [],
   "source": [
    "bootcamps =df[df['BootcampRecommend'].notnull()]"
   ]
  },
  {
   "cell_type": "code",
   "execution_count": null,
   "metadata": {
    "collapsed": false
   },
   "outputs": [],
   "source": [
    "bootcamps['BootcampRecommend']"
   ]
  },
  {
   "cell_type": "code",
   "execution_count": null,
   "metadata": {
    "collapsed": false
   },
   "outputs": [],
   "source": [
    "bootcamps.head()"
   ]
  },
  {
   "cell_type": "code",
   "execution_count": null,
   "metadata": {
    "collapsed": false
   },
   "outputs": [],
   "source": [
    "#convert 1s and 0s into yes and nos\n",
    "#save this response into a new row in the bootcamps df\n",
    "bootcamps['YesNoBoot']= bootcamps[\"BootcampRecommend\"].apply(str).replace(\"1.0\", \"Yes!\").apply(str).replace(\"0.0\", \"No.\")\n",
    "\n",
    "#look at the new yes/no value column that we created that is associated with whether or not an individual recommends a bootcamp\n",
    "recBootcamp = bootcamps['YesNoBoot'].value_counts().plot(kind=\"pie\",  colors=['#cc0099', '#800060'])\n",
    "\n",
    "\n",
    "# recBootcamp.setLineColor(0xffffff)\n",
    "\n",
    "recBootcamp.set_title('Would you recommend attending a bootcamp?')\n",
    "recBootcamp.set_ylabel('')\n",
    "plt.savefig('recommendbootcampyesorno.png')"
   ]
  },
  {
   "cell_type": "code",
   "execution_count": null,
   "metadata": {
    "collapsed": false
   },
   "outputs": [],
   "source": [
    "#look at the new yes/no value column that we created that is associated with whether or not an individual recommends a bootcamp\n",
    "ethnicMinority = df['IsEthnicMinority'].value_counts().plot(kind=\"pie\",  colors=['#cc0099', '#800060'], labels=['ethnic minority', 'not ethnic minority'])\n",
    "\n",
    "ethnicMinority.set_title('Respondents that identified as ethnic minorities')\n",
    "ethnicMinority.set_ylabel('')\n",
    "plt.savefig('ethnicminority.png')\n",
    "\n",
    "# recBootcamp.setLineColor(0xffffff)\n",
    "\n",
    "#recBootcamp.set_title('Would you recommend attending a bootcamp?')\n",
    "#recBootcamp.set_ylabel('')\n",
    "#plt.savefig('recommendbootcampyesorno.png')"
   ]
  },
  {
   "cell_type": "code",
   "execution_count": null,
   "metadata": {
    "collapsed": false
   },
   "outputs": [],
   "source": [
    "bootcamps.head()"
   ]
  },
  {
   "cell_type": "code",
   "execution_count": null,
   "metadata": {
    "collapsed": true
   },
   "outputs": [],
   "source": []
  },
  {
   "cell_type": "code",
   "execution_count": null,
   "metadata": {
    "collapsed": true
   },
   "outputs": [],
   "source": []
  }
 ],
 "metadata": {
  "kernelspec": {
   "display_name": "Python 3",
   "language": "python",
   "name": "python3"
  },
  "language_info": {
   "codemirror_mode": {
    "name": "ipython",
    "version": 3
   },
   "file_extension": ".py",
   "mimetype": "text/x-python",
   "name": "python",
   "nbconvert_exporter": "python",
   "pygments_lexer": "ipython3",
   "version": "3.5.1"
  }
 },
 "nbformat": 4,
 "nbformat_minor": 0
}
