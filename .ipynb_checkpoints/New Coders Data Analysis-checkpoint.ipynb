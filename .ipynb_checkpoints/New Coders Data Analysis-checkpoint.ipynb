{
 "cells": [
  {
   "cell_type": "code",
   "execution_count": 149,
   "metadata": {
    "collapsed": false
   },
   "outputs": [],
   "source": [
    "# workon dataanalysis - my virtual environment\n",
    "import pandas as pd\n",
    "import matplotlib.pyplot as plt\n",
    "%matplotlib inline"
   ]
  },
  {
   "cell_type": "code",
   "execution_count": 150,
   "metadata": {
    "collapsed": false
   },
   "outputs": [
    {
     "name": "stderr",
     "output_type": "stream",
     "text": [
      "/Users/Monica/.virtualenvs/dataanalysis/lib/python3.5/site-packages/IPython/core/interactiveshell.py:2723: DtypeWarning: Columns (21,57) have mixed types. Specify dtype option on import or set low_memory=False.\n",
      "  interactivity=interactivity, compiler=compiler, result=result)\n"
     ]
    }
   ],
   "source": [
    "df = pd.read_csv('2016-FCC-New-Coders-Survey-Data.csv')"
   ]
  },
  {
   "cell_type": "code",
   "execution_count": 151,
   "metadata": {
    "collapsed": false
   },
   "outputs": [
    {
     "data": {
      "text/html": [
       "<div>\n",
       "<table border=\"1\" class=\"dataframe\">\n",
       "  <thead>\n",
       "    <tr style=\"text-align: right;\">\n",
       "      <th></th>\n",
       "      <th>Age</th>\n",
       "      <th>AttendedBootcamp</th>\n",
       "      <th>BootcampFinish</th>\n",
       "      <th>BootcampFullJobAfter</th>\n",
       "      <th>BootcampLoanYesNo</th>\n",
       "      <th>BootcampMonthsAgo</th>\n",
       "      <th>BootcampName</th>\n",
       "      <th>BootcampPostSalary</th>\n",
       "      <th>BootcampRecommend</th>\n",
       "      <th>ChildrenNumber</th>\n",
       "      <th>...</th>\n",
       "      <th>ResourceSoloLearn</th>\n",
       "      <th>ResourceStackOverflow</th>\n",
       "      <th>ResourceTreehouse</th>\n",
       "      <th>ResourceUdacity</th>\n",
       "      <th>ResourceUdemy</th>\n",
       "      <th>ResourceW3Schools</th>\n",
       "      <th>ResourceYouTube</th>\n",
       "      <th>SchoolDegree</th>\n",
       "      <th>SchoolMajor</th>\n",
       "      <th>StudentDebtOwe</th>\n",
       "    </tr>\n",
       "  </thead>\n",
       "  <tbody>\n",
       "    <tr>\n",
       "      <th>0</th>\n",
       "      <td>28.0</td>\n",
       "      <td>0.0</td>\n",
       "      <td>NaN</td>\n",
       "      <td>NaN</td>\n",
       "      <td>NaN</td>\n",
       "      <td>NaN</td>\n",
       "      <td>NaN</td>\n",
       "      <td>NaN</td>\n",
       "      <td>NaN</td>\n",
       "      <td>NaN</td>\n",
       "      <td>...</td>\n",
       "      <td>NaN</td>\n",
       "      <td>NaN</td>\n",
       "      <td>NaN</td>\n",
       "      <td>NaN</td>\n",
       "      <td>NaN</td>\n",
       "      <td>NaN</td>\n",
       "      <td>NaN</td>\n",
       "      <td>some college credit, no degree</td>\n",
       "      <td>NaN</td>\n",
       "      <td>20000.0</td>\n",
       "    </tr>\n",
       "    <tr>\n",
       "      <th>1</th>\n",
       "      <td>22.0</td>\n",
       "      <td>0.0</td>\n",
       "      <td>NaN</td>\n",
       "      <td>NaN</td>\n",
       "      <td>NaN</td>\n",
       "      <td>NaN</td>\n",
       "      <td>NaN</td>\n",
       "      <td>NaN</td>\n",
       "      <td>NaN</td>\n",
       "      <td>NaN</td>\n",
       "      <td>...</td>\n",
       "      <td>NaN</td>\n",
       "      <td>NaN</td>\n",
       "      <td>NaN</td>\n",
       "      <td>NaN</td>\n",
       "      <td>1.0</td>\n",
       "      <td>NaN</td>\n",
       "      <td>NaN</td>\n",
       "      <td>some college credit, no degree</td>\n",
       "      <td>NaN</td>\n",
       "      <td>NaN</td>\n",
       "    </tr>\n",
       "    <tr>\n",
       "      <th>2</th>\n",
       "      <td>19.0</td>\n",
       "      <td>0.0</td>\n",
       "      <td>NaN</td>\n",
       "      <td>NaN</td>\n",
       "      <td>NaN</td>\n",
       "      <td>NaN</td>\n",
       "      <td>NaN</td>\n",
       "      <td>NaN</td>\n",
       "      <td>NaN</td>\n",
       "      <td>NaN</td>\n",
       "      <td>...</td>\n",
       "      <td>NaN</td>\n",
       "      <td>NaN</td>\n",
       "      <td>NaN</td>\n",
       "      <td>NaN</td>\n",
       "      <td>NaN</td>\n",
       "      <td>NaN</td>\n",
       "      <td>NaN</td>\n",
       "      <td>high school diploma or equivalent (GED)</td>\n",
       "      <td>NaN</td>\n",
       "      <td>NaN</td>\n",
       "    </tr>\n",
       "    <tr>\n",
       "      <th>3</th>\n",
       "      <td>26.0</td>\n",
       "      <td>0.0</td>\n",
       "      <td>NaN</td>\n",
       "      <td>NaN</td>\n",
       "      <td>NaN</td>\n",
       "      <td>NaN</td>\n",
       "      <td>NaN</td>\n",
       "      <td>NaN</td>\n",
       "      <td>NaN</td>\n",
       "      <td>NaN</td>\n",
       "      <td>...</td>\n",
       "      <td>NaN</td>\n",
       "      <td>NaN</td>\n",
       "      <td>NaN</td>\n",
       "      <td>NaN</td>\n",
       "      <td>NaN</td>\n",
       "      <td>NaN</td>\n",
       "      <td>NaN</td>\n",
       "      <td>bachelor's degree</td>\n",
       "      <td>Cinematography And Film</td>\n",
       "      <td>7000.0</td>\n",
       "    </tr>\n",
       "    <tr>\n",
       "      <th>4</th>\n",
       "      <td>20.0</td>\n",
       "      <td>0.0</td>\n",
       "      <td>NaN</td>\n",
       "      <td>NaN</td>\n",
       "      <td>NaN</td>\n",
       "      <td>NaN</td>\n",
       "      <td>NaN</td>\n",
       "      <td>NaN</td>\n",
       "      <td>NaN</td>\n",
       "      <td>NaN</td>\n",
       "      <td>...</td>\n",
       "      <td>NaN</td>\n",
       "      <td>NaN</td>\n",
       "      <td>NaN</td>\n",
       "      <td>NaN</td>\n",
       "      <td>NaN</td>\n",
       "      <td>NaN</td>\n",
       "      <td>NaN</td>\n",
       "      <td>some college credit, no degree</td>\n",
       "      <td>NaN</td>\n",
       "      <td>NaN</td>\n",
       "    </tr>\n",
       "  </tbody>\n",
       "</table>\n",
       "<p>5 rows × 113 columns</p>\n",
       "</div>"
      ],
      "text/plain": [
       "    Age  AttendedBootcamp  BootcampFinish  BootcampFullJobAfter  \\\n",
       "0  28.0               0.0             NaN                   NaN   \n",
       "1  22.0               0.0             NaN                   NaN   \n",
       "2  19.0               0.0             NaN                   NaN   \n",
       "3  26.0               0.0             NaN                   NaN   \n",
       "4  20.0               0.0             NaN                   NaN   \n",
       "\n",
       "   BootcampLoanYesNo  BootcampMonthsAgo BootcampName  BootcampPostSalary  \\\n",
       "0                NaN                NaN          NaN                 NaN   \n",
       "1                NaN                NaN          NaN                 NaN   \n",
       "2                NaN                NaN          NaN                 NaN   \n",
       "3                NaN                NaN          NaN                 NaN   \n",
       "4                NaN                NaN          NaN                 NaN   \n",
       "\n",
       "   BootcampRecommend  ChildrenNumber       ...       ResourceSoloLearn  \\\n",
       "0                NaN             NaN       ...                     NaN   \n",
       "1                NaN             NaN       ...                     NaN   \n",
       "2                NaN             NaN       ...                     NaN   \n",
       "3                NaN             NaN       ...                     NaN   \n",
       "4                NaN             NaN       ...                     NaN   \n",
       "\n",
       "   ResourceStackOverflow  ResourceTreehouse  ResourceUdacity  ResourceUdemy  \\\n",
       "0                    NaN                NaN              NaN            NaN   \n",
       "1                    NaN                NaN              NaN            1.0   \n",
       "2                    NaN                NaN              NaN            NaN   \n",
       "3                    NaN                NaN              NaN            NaN   \n",
       "4                    NaN                NaN              NaN            NaN   \n",
       "\n",
       "   ResourceW3Schools  ResourceYouTube  \\\n",
       "0                NaN              NaN   \n",
       "1                NaN              NaN   \n",
       "2                NaN              NaN   \n",
       "3                NaN              NaN   \n",
       "4                NaN              NaN   \n",
       "\n",
       "                              SchoolDegree              SchoolMajor  \\\n",
       "0           some college credit, no degree                      NaN   \n",
       "1           some college credit, no degree                      NaN   \n",
       "2  high school diploma or equivalent (GED)                      NaN   \n",
       "3                        bachelor's degree  Cinematography And Film   \n",
       "4           some college credit, no degree                      NaN   \n",
       "\n",
       "   StudentDebtOwe  \n",
       "0         20000.0  \n",
       "1             NaN  \n",
       "2             NaN  \n",
       "3          7000.0  \n",
       "4             NaN  \n",
       "\n",
       "[5 rows x 113 columns]"
      ]
     },
     "execution_count": 151,
     "metadata": {},
     "output_type": "execute_result"
    }
   ],
   "source": [
    "df.head()"
   ]
  },
  {
   "cell_type": "code",
   "execution_count": 152,
   "metadata": {
    "collapsed": false
   },
   "outputs": [
    {
     "data": {
      "text/plain": [
       "dtype('float64')"
      ]
     },
     "execution_count": 152,
     "metadata": {},
     "output_type": "execute_result"
    }
   ],
   "source": [
    "df['Age'].dtype"
   ]
  },
  {
   "cell_type": "markdown",
   "metadata": {},
   "source": [
    "Who does this data represent? Age? Gender breakdown?"
   ]
  },
  {
   "cell_type": "code",
   "execution_count": 153,
   "metadata": {
    "collapsed": false
   },
   "outputs": [
    {
     "name": "stdout",
     "output_type": "stream",
     "text": [
      "According to this survey the average developer is 29.0 years old.\n"
     ]
    }
   ],
   "source": [
    "print(\"According to this survey the average developer is\", round(df['Age'].mean()), \"years old.\")"
   ]
  },
  {
   "cell_type": "code",
   "execution_count": 154,
   "metadata": {
    "collapsed": false
   },
   "outputs": [
    {
     "data": {
      "image/png": "[encoded data removed]",
      "text/plain": [
       "<matplotlib.figure.Figure at 0x10e2f2470>"
      ]
     },
     "metadata": {},
     "output_type": "display_data"
    }
   ],
   "source": [
    "ageHis = df['Age'].hist() # .hist(bins=#)\n",
    "ageHis.set_title('Distribution of Age Amongst Respondents to the Survey')\n",
    "ageHis.set_xlabel('Age(years)')\n",
    "ageHis.set_ylabel('# of Respondents')\n",
    "plt.savefig('agehis.png')"
   ]
  },
  {
   "cell_type": "code",
   "execution_count": 155,
   "metadata": {
    "collapsed": false
   },
   "outputs": [
    {
     "data": {
      "text/plain": [
       "male           10766\n",
       "female          2840\n",
       "genderqueer       66\n",
       "agender           38\n",
       "trans             36\n",
       "Name: Gender, dtype: int64"
      ]
     },
     "execution_count": 155,
     "metadata": {},
     "output_type": "execute_result"
    }
   ],
   "source": [
    "df['Gender'].value_counts()"
   ]
  },
  {
   "cell_type": "code",
   "execution_count": 156,
   "metadata": {
    "collapsed": false
   },
   "outputs": [
    {
     "data": {
      "image/png": "[encoded data removed]",
      "text/plain": [
       "<matplotlib.figure.Figure at 0x10e2f7550>"
      ]
     },
     "metadata": {},
     "output_type": "display_data"
    }
   ],
   "source": [
    "genderBar = df['Gender'].value_counts().plot(kind=\"bar\")\n",
    "genderBar.set_title('Distribution of Gender Amongst Respondents to the Survey')\n",
    "genderBar.set_xlabel('Gender')\n",
    "genderBar.set_ylabel('# of Respondents')\n",
    "plt.savefig('genderbar.png')"
   ]
  },
  {
   "cell_type": "code",
   "execution_count": 157,
   "metadata": {
    "collapsed": false
   },
   "outputs": [
    {
     "data": {
      "text/plain": [
       "Index(['Age', 'AttendedBootcamp', 'BootcampFinish', 'BootcampFullJobAfter',\n",
       "       'BootcampLoanYesNo', 'BootcampMonthsAgo', 'BootcampName',\n",
       "       'BootcampPostSalary', 'BootcampRecommend', 'ChildrenNumber',\n",
       "       ...\n",
       "       'ResourceSoloLearn', 'ResourceStackOverflow', 'ResourceTreehouse',\n",
       "       'ResourceUdacity', 'ResourceUdemy', 'ResourceW3Schools',\n",
       "       'ResourceYouTube', 'SchoolDegree', 'SchoolMajor', 'StudentDebtOwe'],\n",
       "      dtype='object', length=113)"
      ]
     },
     "execution_count": 157,
     "metadata": {},
     "output_type": "execute_result"
    }
   ],
   "source": [
    "df.columns"
   ]
  },
  {
   "cell_type": "code",
   "execution_count": 158,
   "metadata": {
    "collapsed": false
   },
   "outputs": [
    {
     "data": {
      "text/plain": [
       "Part1StartTime                 1\n",
       "BootcampMonthsAgo              1\n",
       "EmploymentStatus               1\n",
       "PodcastDeveloperTea            1\n",
       "ResourceHackerRank             1\n",
       "ResourceDevTips                1\n",
       "SchoolDegree                   1\n",
       "BootcampLoanYesNo              1\n",
       "JobApplyWhen                   1\n",
       "PodcastProgrammingThrowDown    1\n",
       "AttendedBootcamp               1\n",
       "ResourceStackOverflow          1\n",
       "CodeEventWorkshop              1\n",
       "JobRoleInterestOther           1\n",
       "BootcampFullJobAfter           1\n",
       "ResourceSoloLearn              1\n",
       "ChildrenNumber                 1\n",
       "ResourceLynda                  1\n",
       "PodcastNone                    1\n",
       "CodeEventNone                  1\n",
       "ResourceUdemy                  1\n",
       "HasServedInMilitary            1\n",
       "ResourceBooks                  1\n",
       "Gender                         1\n",
       "ExpectedEarning                1\n",
       "ResourceTreehouse              1\n",
       "ResourceKhanAcademy            1\n",
       "PodcastOther                   1\n",
       "ResourceOther                  1\n",
       "Part1EndTime                   1\n",
       "                              ..\n",
       "CountryLive                    1\n",
       "IsEthnicMinority               1\n",
       "BootcampFinish                 1\n",
       "ResourceReddit                 1\n",
       "ResourceCoursera               1\n",
       "ResourceEdX                    1\n",
       "ResourceUdacity                1\n",
       "ID.x                           1\n",
       "ResourceGoogle                 1\n",
       "PodcastSEDaily                 1\n",
       "ResourcePluralSight            1\n",
       "IsSoftwareDev                  1\n",
       "PodcastJSJabber                1\n",
       "PodcastTalkPython              1\n",
       "CodeEventCoffee                1\n",
       "PodcastCodeNewbie              1\n",
       "ResourceCodeWars               1\n",
       "MaritalStatus                  1\n",
       "ResourceOdinProj               1\n",
       "HoursLearning                  1\n",
       "ResourceYouTube                1\n",
       "ResourceCodecademy             1\n",
       "ID.y                           1\n",
       "HasStudentDebt                 1\n",
       "IsUnderEmployed                1\n",
       "CodeEventRailsBridge           1\n",
       "PodcastJsAir                   1\n",
       "CodeEventBootcamp              1\n",
       "NetworkID                      1\n",
       "PodcastDotNetRocks             1\n",
       "dtype: int64"
      ]
     },
     "execution_count": 158,
     "metadata": {},
     "output_type": "execute_result"
    }
   ],
   "source": [
    "df.columns.value_counts() #view all columns -- regular columns command  truncates the values"
   ]
  },
  {
   "cell_type": "markdown",
   "metadata": {},
   "source": [
    "Aside from university tuition, about how much money have you spent on learning to code so far (in US dollars)?"
   ]
  },
  {
   "cell_type": "code",
   "execution_count": 159,
   "metadata": {
    "collapsed": false
   },
   "outputs": [
    {
     "data": {
      "text/plain": [
       "0.0        6587\n",
       "100.0      1071\n",
       "200.0       756\n",
       "500.0       716\n",
       "50.0        564\n",
       "1000.0      518\n",
       "300.0       444\n",
       "20.0        221\n",
       "150.0       217\n",
       "2000.0      217\n",
       "400.0       198\n",
       "30.0        193\n",
       "5000.0      165\n",
       "250.0       152\n",
       "3000.0      137\n",
       "1500.0      126\n",
       "10.0        118\n",
       "10000.0     114\n",
       "60.0        112\n",
       "40.0        105\n",
       "600.0       100\n",
       "4000.0       89\n",
       "25.0         74\n",
       "15000.0      70\n",
       "20000.0      65\n",
       "2500.0       61\n",
       "12000.0      60\n",
       "700.0        58\n",
       "800.0        57\n",
       "1200.0       52\n",
       "           ... \n",
       "199.0         1\n",
       "190.0         1\n",
       "185.0         1\n",
       "1900.0        1\n",
       "12050.0       1\n",
       "174.0         1\n",
       "2009.0        1\n",
       "84000.0       1\n",
       "2100.0        1\n",
       "145.0         1\n",
       "834.0         1\n",
       "1650.0        1\n",
       "236.0         1\n",
       "239.0         1\n",
       "320.0         1\n",
       "17550.0       1\n",
       "345.0         1\n",
       "341.0         1\n",
       "1206.0        1\n",
       "1221.0        1\n",
       "325.0         1\n",
       "1250.0        1\n",
       "1537.0        1\n",
       "299.0         1\n",
       "288.0         1\n",
       "280.0         1\n",
       "275.0         1\n",
       "1296.0        1\n",
       "17800.0       1\n",
       "93000.0       1\n",
       "Name: MoneyForLearning, dtype: int64"
      ]
     },
     "execution_count": 159,
     "metadata": {},
     "output_type": "execute_result"
    }
   ],
   "source": [
    "df['MoneyForLearning'].value_counts()"
   ]
  },
  {
   "cell_type": "code",
   "execution_count": 160,
   "metadata": {
    "collapsed": false
   },
   "outputs": [
    {
     "data": {
      "text/plain": [
       "93000.0    1\n",
       "8650.0     1\n",
       "8600.0     1\n",
       "13.0       1\n",
       "Name: MoneyForLearning, dtype: int64"
      ]
     },
     "execution_count": 160,
     "metadata": {},
     "output_type": "execute_result"
    }
   ],
   "source": [
    "df['MoneyForLearning'].value_counts().sort_values().head(4)"
   ]
  },
  {
   "cell_type": "code",
   "execution_count": 200,
   "metadata": {
    "collapsed": false
   },
   "outputs": [
    {
     "data": {
      "image/png": "[encoded data removed]",
      "text/plain": [
       "<matplotlib.figure.Figure at 0x113db77f0>"
      ]
     },
     "metadata": {},
     "output_type": "display_data"
    }
   ],
   "source": [
    "moneyScatter = df.plot(kind='scatter', x='Age', y='MoneyForLearning', alpha=0.2, xlim=(8, 85),ylim = (0, 200000))\n",
    "moneyScatter.set_title('Distribution of Money Spent Amongst Respondents to the Survey by Age')\n",
    "moneyScatter.set_xlabel('Age')\n",
    "moneyScatter.set_ylabel('Amount Spent')\n",
    "plt.savefig('moneyscatter.png')\n"
   ]
  },
  {
   "cell_type": "code",
   "execution_count": 162,
   "metadata": {
    "collapsed": false
   },
   "outputs": [
    {
     "data": {
      "image/png": "[encoded data removed]",
      "text/plain": [
       "<matplotlib.figure.Figure at 0x110803390>"
      ]
     },
     "metadata": {},
     "output_type": "display_data"
    }
   ],
   "source": [
    "moneyBar = df['MoneyForLearning'].hist(bins=20, range=(0,93000)) # trying to figure out data because the range is from 0 to $93,000\n",
    "moneyBar.set_title('Distribution of Money Spent Amongst Respondents to the Survey by Age')\n",
    "moneyBar.set_xlabel('Age')\n",
    "moneyBar.set_ylabel('Amount Spent')\n",
    "plt.savefig('moneybar.png')"
   ]
  },
  {
   "cell_type": "code",
   "execution_count": 195,
   "metadata": {
    "collapsed": false
   },
   "outputs": [
    {
     "data": {
      "image/png": "[encoded data removed]",
      "text/plain": [
       "<matplotlib.figure.Figure at 0x11074e828>"
      ]
     },
     "metadata": {},
     "output_type": "display_data"
    }
   ],
   "source": [
    "moneySpentExpectedScatter = df.plot(kind='scatter', x='MoneyForLearning', y='ExpectedEarning', ylim=(0, 220000), xlim=(0,93000), alpha=0.2)\n",
    "moneySpentExpectedScatter.set_title('Money Spent for Learning versus Expected Earning')\n",
    "moneySpentExpectedScatter.set_xlabel('Money for Learning')\n",
    "moneySpentExpectedScatter.set_ylabel('Expected Earning')\n",
    "plt.savefig('spentvsexpectedscatter.png')"
   ]
  },
  {
   "cell_type": "code",
   "execution_count": 164,
   "metadata": {
    "collapsed": false
   },
   "outputs": [],
   "source": [
    "bootcamps =df[df['BootcampRecommend'].notnull()]"
   ]
  },
  {
   "cell_type": "code",
   "execution_count": 165,
   "metadata": {
    "collapsed": false
   },
   "outputs": [
    {
     "data": {
      "text/plain": [
       "93       0.0\n",
       "97       0.0\n",
       "130      1.0\n",
       "159      0.0\n",
       "188      0.0\n",
       "206      0.0\n",
       "209      1.0\n",
       "236      0.0\n",
       "272      1.0\n",
       "273      1.0\n",
       "285      1.0\n",
       "315      0.0\n",
       "316      1.0\n",
       "328      1.0\n",
       "426      1.0\n",
       "435      1.0\n",
       "449      1.0\n",
       "465      1.0\n",
       "470      1.0\n",
       "478      1.0\n",
       "481      1.0\n",
       "488      1.0\n",
       "505      1.0\n",
       "506      1.0\n",
       "510      1.0\n",
       "522      0.0\n",
       "525      1.0\n",
       "526      1.0\n",
       "533      1.0\n",
       "543      1.0\n",
       "        ... \n",
       "14653    1.0\n",
       "14681    1.0\n",
       "14695    1.0\n",
       "14701    1.0\n",
       "14751    0.0\n",
       "14766    0.0\n",
       "14797    1.0\n",
       "14846    1.0\n",
       "14987    1.0\n",
       "14992    1.0\n",
       "15062    1.0\n",
       "15106    1.0\n",
       "15128    1.0\n",
       "15165    1.0\n",
       "15188    1.0\n",
       "15239    1.0\n",
       "15348    1.0\n",
       "15395    1.0\n",
       "15400    0.0\n",
       "15406    1.0\n",
       "15412    1.0\n",
       "15420    0.0\n",
       "15421    1.0\n",
       "15436    1.0\n",
       "15465    1.0\n",
       "15539    1.0\n",
       "15540    0.0\n",
       "15541    1.0\n",
       "15593    0.0\n",
       "15600    1.0\n",
       "Name: BootcampRecommend, dtype: float64"
      ]
     },
     "execution_count": 165,
     "metadata": {},
     "output_type": "execute_result"
    }
   ],
   "source": [
    "bootcamps['BootcampRecommend']"
   ]
  },
  {
   "cell_type": "code",
   "execution_count": 166,
   "metadata": {
    "collapsed": false
   },
   "outputs": [
    {
     "data": {
      "text/html": [
       "<div>\n",
       "<table border=\"1\" class=\"dataframe\">\n",
       "  <thead>\n",
       "    <tr style=\"text-align: right;\">\n",
       "      <th></th>\n",
       "      <th>Age</th>\n",
       "      <th>AttendedBootcamp</th>\n",
       "      <th>BootcampFinish</th>\n",
       "      <th>BootcampFullJobAfter</th>\n",
       "      <th>BootcampLoanYesNo</th>\n",
       "      <th>BootcampMonthsAgo</th>\n",
       "      <th>BootcampName</th>\n",
       "      <th>BootcampPostSalary</th>\n",
       "      <th>BootcampRecommend</th>\n",
       "      <th>ChildrenNumber</th>\n",
       "      <th>...</th>\n",
       "      <th>ResourceSoloLearn</th>\n",
       "      <th>ResourceStackOverflow</th>\n",
       "      <th>ResourceTreehouse</th>\n",
       "      <th>ResourceUdacity</th>\n",
       "      <th>ResourceUdemy</th>\n",
       "      <th>ResourceW3Schools</th>\n",
       "      <th>ResourceYouTube</th>\n",
       "      <th>SchoolDegree</th>\n",
       "      <th>SchoolMajor</th>\n",
       "      <th>StudentDebtOwe</th>\n",
       "    </tr>\n",
       "  </thead>\n",
       "  <tbody>\n",
       "    <tr>\n",
       "      <th>93</th>\n",
       "      <td>32.0</td>\n",
       "      <td>1.0</td>\n",
       "      <td>1.0</td>\n",
       "      <td>0.0</td>\n",
       "      <td>0.0</td>\n",
       "      <td>8.0</td>\n",
       "      <td>Codify Academy</td>\n",
       "      <td>NaN</td>\n",
       "      <td>0.0</td>\n",
       "      <td>NaN</td>\n",
       "      <td>...</td>\n",
       "      <td>NaN</td>\n",
       "      <td>NaN</td>\n",
       "      <td>NaN</td>\n",
       "      <td>1.0</td>\n",
       "      <td>NaN</td>\n",
       "      <td>NaN</td>\n",
       "      <td>NaN</td>\n",
       "      <td>bachelor's degree</td>\n",
       "      <td>Biology</td>\n",
       "      <td>NaN</td>\n",
       "    </tr>\n",
       "    <tr>\n",
       "      <th>97</th>\n",
       "      <td>26.0</td>\n",
       "      <td>1.0</td>\n",
       "      <td>1.0</td>\n",
       "      <td>1.0</td>\n",
       "      <td>0.0</td>\n",
       "      <td>3.0</td>\n",
       "      <td>DaVinci Coders</td>\n",
       "      <td>45000.0</td>\n",
       "      <td>0.0</td>\n",
       "      <td>NaN</td>\n",
       "      <td>...</td>\n",
       "      <td>NaN</td>\n",
       "      <td>NaN</td>\n",
       "      <td>NaN</td>\n",
       "      <td>NaN</td>\n",
       "      <td>1.0</td>\n",
       "      <td>NaN</td>\n",
       "      <td>NaN</td>\n",
       "      <td>master's degree (non-professional)</td>\n",
       "      <td>Music</td>\n",
       "      <td>80000.0</td>\n",
       "    </tr>\n",
       "    <tr>\n",
       "      <th>130</th>\n",
       "      <td>41.0</td>\n",
       "      <td>1.0</td>\n",
       "      <td>1.0</td>\n",
       "      <td>1.0</td>\n",
       "      <td>1.0</td>\n",
       "      <td>11.0</td>\n",
       "      <td>Coder Foundry</td>\n",
       "      <td>75000.0</td>\n",
       "      <td>1.0</td>\n",
       "      <td>3.0</td>\n",
       "      <td>...</td>\n",
       "      <td>NaN</td>\n",
       "      <td>NaN</td>\n",
       "      <td>NaN</td>\n",
       "      <td>NaN</td>\n",
       "      <td>1.0</td>\n",
       "      <td>NaN</td>\n",
       "      <td>NaN</td>\n",
       "      <td>some college credit, no degree</td>\n",
       "      <td>NaN</td>\n",
       "      <td>8000.0</td>\n",
       "    </tr>\n",
       "    <tr>\n",
       "      <th>159</th>\n",
       "      <td>26.0</td>\n",
       "      <td>1.0</td>\n",
       "      <td>1.0</td>\n",
       "      <td>0.0</td>\n",
       "      <td>0.0</td>\n",
       "      <td>12.0</td>\n",
       "      <td>General Assembly</td>\n",
       "      <td>NaN</td>\n",
       "      <td>0.0</td>\n",
       "      <td>NaN</td>\n",
       "      <td>...</td>\n",
       "      <td>NaN</td>\n",
       "      <td>NaN</td>\n",
       "      <td>NaN</td>\n",
       "      <td>NaN</td>\n",
       "      <td>NaN</td>\n",
       "      <td>NaN</td>\n",
       "      <td>NaN</td>\n",
       "      <td>some college credit, no degree</td>\n",
       "      <td>NaN</td>\n",
       "      <td>NaN</td>\n",
       "    </tr>\n",
       "    <tr>\n",
       "      <th>188</th>\n",
       "      <td>24.0</td>\n",
       "      <td>1.0</td>\n",
       "      <td>0.0</td>\n",
       "      <td>NaN</td>\n",
       "      <td>1.0</td>\n",
       "      <td>NaN</td>\n",
       "      <td>NaN</td>\n",
       "      <td>NaN</td>\n",
       "      <td>0.0</td>\n",
       "      <td>NaN</td>\n",
       "      <td>...</td>\n",
       "      <td>NaN</td>\n",
       "      <td>NaN</td>\n",
       "      <td>1.0</td>\n",
       "      <td>NaN</td>\n",
       "      <td>NaN</td>\n",
       "      <td>NaN</td>\n",
       "      <td>NaN</td>\n",
       "      <td>some college credit, no degree</td>\n",
       "      <td>NaN</td>\n",
       "      <td>NaN</td>\n",
       "    </tr>\n",
       "  </tbody>\n",
       "</table>\n",
       "<p>5 rows × 113 columns</p>\n",
       "</div>"
      ],
      "text/plain": [
       "      Age  AttendedBootcamp  BootcampFinish  BootcampFullJobAfter  \\\n",
       "93   32.0               1.0             1.0                   0.0   \n",
       "97   26.0               1.0             1.0                   1.0   \n",
       "130  41.0               1.0             1.0                   1.0   \n",
       "159  26.0               1.0             1.0                   0.0   \n",
       "188  24.0               1.0             0.0                   NaN   \n",
       "\n",
       "     BootcampLoanYesNo  BootcampMonthsAgo      BootcampName  \\\n",
       "93                 0.0                8.0    Codify Academy   \n",
       "97                 0.0                3.0    DaVinci Coders   \n",
       "130                1.0               11.0     Coder Foundry   \n",
       "159                0.0               12.0  General Assembly   \n",
       "188                1.0                NaN               NaN   \n",
       "\n",
       "     BootcampPostSalary  BootcampRecommend  ChildrenNumber       ...        \\\n",
       "93                  NaN                0.0             NaN       ...         \n",
       "97              45000.0                0.0             NaN       ...         \n",
       "130             75000.0                1.0             3.0       ...         \n",
       "159                 NaN                0.0             NaN       ...         \n",
       "188                 NaN                0.0             NaN       ...         \n",
       "\n",
       "    ResourceSoloLearn  ResourceStackOverflow  ResourceTreehouse  \\\n",
       "93                NaN                    NaN                NaN   \n",
       "97                NaN                    NaN                NaN   \n",
       "130               NaN                    NaN                NaN   \n",
       "159               NaN                    NaN                NaN   \n",
       "188               NaN                    NaN                1.0   \n",
       "\n",
       "     ResourceUdacity  ResourceUdemy  ResourceW3Schools  ResourceYouTube  \\\n",
       "93               1.0            NaN                NaN              NaN   \n",
       "97               NaN            1.0                NaN              NaN   \n",
       "130              NaN            1.0                NaN              NaN   \n",
       "159              NaN            NaN                NaN              NaN   \n",
       "188              NaN            NaN                NaN              NaN   \n",
       "\n",
       "                           SchoolDegree  SchoolMajor  StudentDebtOwe  \n",
       "93                    bachelor's degree      Biology             NaN  \n",
       "97   master's degree (non-professional)        Music         80000.0  \n",
       "130      some college credit, no degree          NaN          8000.0  \n",
       "159      some college credit, no degree          NaN             NaN  \n",
       "188      some college credit, no degree          NaN             NaN  \n",
       "\n",
       "[5 rows x 113 columns]"
      ]
     },
     "execution_count": 166,
     "metadata": {},
     "output_type": "execute_result"
    }
   ],
   "source": [
    "bootcamps.head()"
   ]
  },
  {
   "cell_type": "code",
   "execution_count": 185,
   "metadata": {
    "collapsed": false
   },
   "outputs": [
    {
     "name": "stderr",
     "output_type": "stream",
     "text": [
      "/Users/Monica/.virtualenvs/dataanalysis/lib/python3.5/site-packages/ipykernel/__main__.py:3: SettingWithCopyWarning: \n",
      "A value is trying to be set on a copy of a slice from a DataFrame.\n",
      "Try using .loc[row_indexer,col_indexer] = value instead\n",
      "\n",
      "See the caveats in the documentation: http://pandas.pydata.org/pandas-docs/stable/indexing.html#indexing-view-versus-copy\n",
      "  app.launch_new_instance()\n"
     ]
    },
    {
     "data": {
      "image/png": "[encoded data removed]",
      "text/plain": [
       "<matplotlib.figure.Figure at 0x1110bf2b0>"
      ]
     },
     "metadata": {},
     "output_type": "display_data"
    }
   ],
   "source": [
    "#convert 1s and 0s into yes and nos\n",
    "#save this response into a new row in the bootcamps df\n",
    "bootcamps['YesNoBoot']= bootcamps[\"BootcampRecommend\"].apply(str).replace(\"1.0\", \"Yes!\").apply(str).replace(\"0.0\", \"No.\")\n",
    "\n",
    "#look at the new yes/no value column that we created that is associated with whether or not an individual recommends a bootcamp\n",
    "recBootcamp = bootcamps['YesNoBoot'].value_counts().plot(kind=\"pie\",  colors=['#cc0099', '#800060'])\n",
    "\n",
    "\n",
    "# recBootcamp.setLineColor(0xffffff)\n",
    "\n",
    "recBootcamp.set_title('Would you recommend attending a bootcamp?')\n",
    "recBootcamp.set_ylabel('')\n",
    "plt.savefig('recommendbootcampyesorno.png')"
   ]
  },
  {
   "cell_type": "code",
   "execution_count": 194,
   "metadata": {
    "collapsed": false
   },
   "outputs": [
    {
     "data": {
      "image/png": "[encoded data removed]",
      "text/plain": [
       "<matplotlib.figure.Figure at 0x11126e358>"
      ]
     },
     "metadata": {},
     "output_type": "display_data"
    }
   ],
   "source": [
    "#look at the new yes/no value column that we created that is associated with whether or not an individual recommends a bootcamp\n",
    "ethnicMinority = df['IsEthnicMinority'].value_counts().plot(kind=\"pie\",  colors=['#cc0099', '#800060'], labels=['ethnic minority', 'not ethnic minority'])\n",
    "\n",
    "ethnicMinority.set_title('Respondents that identified as ethnic minorities')\n",
    "ethnicMinority.set_ylabel('')\n",
    "plt.savefig('ethnicminority.png')\n",
    "\n",
    "# recBootcamp.setLineColor(0xffffff)\n",
    "\n",
    "#recBootcamp.set_title('Would you recommend attending a bootcamp?')\n",
    "#recBootcamp.set_ylabel('')\n",
    "#plt.savefig('recommendbootcampyesorno.png')"
   ]
  },
  {
   "cell_type": "code",
   "execution_count": null,
   "metadata": {
    "collapsed": false
   },
   "outputs": [],
   "source": [
    "bootcamps.head()"
   ]
  },
  {
   "cell_type": "code",
   "execution_count": null,
   "metadata": {
    "collapsed": true
   },
   "outputs": [],
   "source": []
  },
  {
   "cell_type": "code",
   "execution_count": null,
   "metadata": {
    "collapsed": true
   },
   "outputs": [],
   "source": []
  }
 ],
 "metadata": {
  "kernelspec": {
   "display_name": "Python 3",
   "language": "python",
   "name": "python3"
  },
  "language_info": {
   "codemirror_mode": {
    "name": "ipython",
    "version": 3
   },
   "file_extension": ".py",
   "mimetype": "text/x-python",
   "name": "python",
   "nbconvert_exporter": "python",
   "pygments_lexer": "ipython3",
   "version": "3.5.1"
  }
 },
 "nbformat": 4,
 "nbformat_minor": 0
}
